{
 "cells": [
  {
   "cell_type": "code",
   "execution_count": 1,
   "metadata": {},
   "outputs": [
    {
     "name": "stderr",
     "output_type": "stream",
     "text": [
      "'curl' is not recognized as an internal or external command,\n",
      "operable program or batch file.\n"
     ]
    }
   ],
   "source": [
    "!curl https://raw.githubusercontent.com/MicrosoftLearning/intropython/master/world_temp_mean.csv -o mean_temp.txt\n",
    "mean_temp = open(\"mean_temp.txt\", \"a+\")\n",
    "mean_temp.write(\"Rio de Janeiro,Brazil,30.0,18.0\\n\")\n",
    "mean_temp.seek(0)\n",
    "headings = mean_temp.readline().strip().split(\",\")\n",
    "\n",
    "city_temp = mean_temp.readline()\n",
    "city = city_temp.strip().split(\",\")\n",
    "\n",
    "while city_temp:\n",
    "    print(headings[0].title(),\"of\",city[0].title(),headings[2],\"is\",city[2],\"Celsius\")\n",
    "    city_temp = mean_temp.readline()\n",
    "    city = city_temp.strip().split(\",\")\n",
    "\n",
    "mean_temp.close()\n"
   ]
  },
  {
   "cell_type": "code",
   "execution_count": null,
   "metadata": {},
   "outputs": [],
   "source": []
  }
 ],
 "metadata": {
  "kernelspec": {
   "display_name": "Python 2",
   "language": "python",
   "name": "python2"
  },
  "language_info": {
   "codemirror_mode": {
    "name": "ipython",
    "version": 2
   },
   "file_extension": ".py",
   "mimetype": "text/x-python",
   "name": "python",
   "nbconvert_exporter": "python",
   "pygments_lexer": "ipython2",
   "version": "2.7.14"
  }
 },
 "nbformat": 4,
 "nbformat_minor": 2
}
