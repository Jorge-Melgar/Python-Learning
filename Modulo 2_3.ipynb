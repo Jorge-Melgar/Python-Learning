{
 "cells": [
  {
   "cell_type": "code",
   "execution_count": null,
   "metadata": {},
   "outputs": [],
   "source": [
    "def word_mixer(original_list):\n",
    "    original_list.sort()\n",
    "    alt_words = \"\"\n",
    "    while len(original_list) > 5:\n",
    "        new_words = []\n",
    "        new_words.append(original_list.pop(-5))\n",
    "        new_words.append(original_list.pop(0))\n",
    "        new_words.append(original_list.pop(-1))\n",
    "        alt_words += \" \".join(new_words) + \"\\n\"\n",
    "    return alt_words\n",
    "\n",
    "word_list = input(\"enter a saying or poem: \").split()\n",
    "for x in range(len(word_list)):\n",
    "    if len(word_list[x]) <= 3:\n",
    "        word_list[x] = word_list[x].lower()\n",
    "    elif len(word_list[x]) >= 7:\n",
    "        word_list[x] = word_list[x].upper()\n",
    "\n",
    "result = word_mixer(word_list)\n",
    "print (result)"
   ]
  }
 ],
 "metadata": {
  "kernelspec": {
   "display_name": "Python 2",
   "language": "python",
   "name": "python2"
  },
  "language_info": {
   "codemirror_mode": {
    "name": "ipython",
    "version": 2
   },
   "file_extension": ".py",
   "mimetype": "text/x-python",
   "name": "python",
   "nbconvert_exporter": "python",
   "pygments_lexer": "ipython2",
   "version": "2.7.14"
  }
 },
 "nbformat": 4,
 "nbformat_minor": 2
}
