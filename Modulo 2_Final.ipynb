{
 "cells": [
  {
   "cell_type": "code",
   "execution_count": null,
   "metadata": {},
   "outputs": [],
   "source": [
    "def get_names():\n",
    "    element_names =[]\n",
    "    print(\"list any 5 of the first 20 elements in the Period table\")\n",
    "    while len(element_names) < 5:\n",
    "        input_name = input(\"Enter the name of an element: \").lower()\n",
    "        if input_name in element_names:\n",
    "            print(input_name, \"was already entered\")\n",
    "        elif input_name == \"\":\n",
    "            print(\"you need to include the name of an element\")\n",
    "        else:\n",
    "            element_names.append(input_name)\n",
    "    return (element_names)\n",
    "\n",
    "!curl https://raw.githubusercontent.com/MicrosoftLearning/intropython/master/elements1_20.txt -o elements1_20.txt\n",
    "elements1_20 = open(\"elements1_20.txt\", \"r\")\n",
    "element_temp = elements1_20.readline().strip()\n",
    "element_list = []\n",
    "while element_temp:\n",
    "    element_list.append(element_temp.lower())\n",
    "    element_temp = elements1_20.readline().strip()\n",
    "elements1_20.close()\n",
    "\n",
    "names = get_names()\n",
    "\n",
    "correct_answer = []\n",
    "incorrect_answer = []\n",
    "for name in range(len(names)):\n",
    "    if names[name] in element_list:\n",
    "        correct_answer.append(names[name].title())\n",
    "    else:\n",
    "        incorrect_answer.append(names[name].title())\n",
    "percentage = len(correct_answer)*20\n",
    "\n",
    "print(\"\\n\",percentage, \"% correct\")\n",
    "print(\"Found:\", \" \".join(correct_answer))\n",
    "print(\"Not found:\", \" \".join(incorrect_answer))"
   ]
  }
 ],
 "metadata": {
  "kernelspec": {
   "display_name": "Python 2",
   "language": "python",
   "name": "python2"
  },
  "language_info": {
   "codemirror_mode": {
    "name": "ipython",
    "version": 2
   },
   "file_extension": ".py",
   "mimetype": "text/x-python",
   "name": "python",
   "nbconvert_exporter": "python",
   "pygments_lexer": "ipython2",
   "version": "2.7.14"
  }
 },
 "nbformat": 4,
 "nbformat_minor": 2
}
